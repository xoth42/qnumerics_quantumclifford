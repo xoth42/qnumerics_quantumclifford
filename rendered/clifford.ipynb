{
 "cells": [
  {
   "cell_type": "markdown",
   "metadata": {},
   "source": [
    "The main package for these demos:"
   ]
  },
  {
   "cell_type": "code",
   "execution_count": 1,
   "metadata": {},
   "outputs": [],
   "source": [
    "using QuantumClifford"
   ]
  },
  {
   "cell_type": "markdown",
   "metadata": {},
   "source": [
    "For visualizing the states under study, we have Makie recipes:"
   ]
  },
  {
   "cell_type": "code",
   "execution_count": 2,
   "metadata": {},
   "outputs": [],
   "source": [
    "using CairoMakie"
   ]
  },
  {
   "cell_type": "markdown",
   "metadata": {},
   "source": [
    "We will also use QuantumOpticsBase to convert to state vector repr\n",
    "for visualization in a more familiar formalism:"
   ]
  },
  {
   "cell_type": "code",
   "execution_count": 3,
   "metadata": {},
   "outputs": [],
   "source": [
    "using QuantumOpticsBase"
   ]
  },
  {
   "cell_type": "markdown",
   "metadata": {},
   "source": [
    "and BenchmarkTools to measure performance:"
   ]
  },
  {
   "cell_type": "code",
   "execution_count": 4,
   "metadata": {},
   "outputs": [],
   "source": [
    "using BenchmarkTools"
   ]
  },
  {
   "cell_type": "markdown",
   "metadata": {},
   "source": [
    "# Pauli operators"
   ]
  },
  {
   "cell_type": "markdown",
   "metadata": {},
   "source": [
    "to define an operator, we can use the `P\"...\"` syntax"
   ]
  },
  {
   "cell_type": "code",
   "execution_count": 5,
   "metadata": {},
   "outputs": [
    {
     "data": {
      "text/plain": [
       "+ Z"
      ]
     },
     "execution_count": 5,
     "metadata": {},
     "output_type": "execute_result"
    }
   ],
   "source": [
    "P\"Z\""
   ]
  },
  {
   "cell_type": "markdown",
   "metadata": {},
   "source": [
    "to convert to state vector repr, we can use the `Operator` constructor"
   ]
  },
  {
   "cell_type": "code",
   "execution_count": 6,
   "metadata": {},
   "outputs": [
    {
     "data": {
      "text/plain": [
       "Operator(dim=2x2)\n",
       "  basis: Spin(1/2)\n",
       " 1.0 + 0.0im        ⋅     \n",
       "      ⋅       -1.0 + 0.0im"
      ]
     },
     "execution_count": 6,
     "metadata": {},
     "output_type": "execute_result"
    }
   ],
   "source": [
    "P\"Z\" |> Operator # from QuantumOptics"
   ]
  },
  {
   "cell_type": "markdown",
   "metadata": {},
   "source": [
    "same for Pauli X, and tensor products"
   ]
  },
  {
   "cell_type": "code",
   "execution_count": 7,
   "metadata": {},
   "outputs": [
    {
     "data": {
      "text/plain": [
       "Operator(dim=2x2)\n",
       "  basis: Spin(1/2)\n",
       "      ⋅       1.0 + 0.0im\n",
       " 1.0 + 0.0im       ⋅     "
      ]
     },
     "execution_count": 7,
     "metadata": {},
     "output_type": "execute_result"
    }
   ],
   "source": [
    "P\"X\" |> Operator"
   ]
  },
  {
   "cell_type": "markdown",
   "metadata": {},
   "source": [
    "shorthand syntax for tensor products"
   ]
  },
  {
   "cell_type": "code",
   "execution_count": 8,
   "metadata": {},
   "outputs": [
    {
     "data": {
      "text/plain": [
       "true"
      ]
     },
     "execution_count": 8,
     "metadata": {},
     "output_type": "execute_result"
    }
   ],
   "source": [
    "P\"XX\" == P\"X\" ⊗ P\"X\""
   ]
  },
  {
   "cell_type": "markdown",
   "metadata": {},
   "source": [
    "low level function to check for commutativity"
   ]
  },
  {
   "cell_type": "code",
   "execution_count": 9,
   "metadata": {},
   "outputs": [
    {
     "data": {
      "text/plain": [
       "0x01"
      ]
     },
     "execution_count": 9,
     "metadata": {},
     "output_type": "execute_result"
    }
   ],
   "source": [
    "comm(P\"X\", P\"Z\")"
   ]
  },
  {
   "cell_type": "markdown",
   "metadata": {},
   "source": [
    "One of the value adds of this package is that behind\n",
    "the convenient syntax, the low-level representation\n",
    "of the operators is very compact and fast."
   ]
  },
  {
   "cell_type": "code",
   "execution_count": 10,
   "metadata": {},
   "outputs": [
    {
     "data": {
      "text/plain": [
       "BenchmarkTools.Trial: 609 samples with 1 evaluation per sample.\n",
       " Range \u001b[90m(\u001b[39m\u001b[36m\u001b[1mmin\u001b[22m\u001b[39m … \u001b[35mmax\u001b[39m\u001b[90m):  \u001b[39m\u001b[36m\u001b[1m7.972 ms\u001b[22m\u001b[39m … \u001b[35m 10.082 ms\u001b[39m  \u001b[90m┊\u001b[39m GC \u001b[90m(\u001b[39mmin … max\u001b[90m): \u001b[39m0.00% … 0.00%\n",
       " Time  \u001b[90m(\u001b[39m\u001b[34m\u001b[1mmedian\u001b[22m\u001b[39m\u001b[90m):     \u001b[39m\u001b[34m\u001b[1m8.184 ms               \u001b[22m\u001b[39m\u001b[90m┊\u001b[39m GC \u001b[90m(\u001b[39mmedian\u001b[90m):    \u001b[39m0.00%\n",
       " Time  \u001b[90m(\u001b[39m\u001b[32m\u001b[1mmean\u001b[22m\u001b[39m ± \u001b[32mσ\u001b[39m\u001b[90m):   \u001b[39m\u001b[32m\u001b[1m8.202 ms\u001b[22m\u001b[39m ± \u001b[32m185.312 μs\u001b[39m  \u001b[90m┊\u001b[39m GC \u001b[90m(\u001b[39mmean ± σ\u001b[90m):  \u001b[39m0.00% ± 0.00%\n",
       "\n",
       "  \u001b[39m \u001b[39m▄\u001b[39m \u001b[39m \u001b[39m▁\u001b[39m \u001b[39m \u001b[39m \u001b[39m▁\u001b[39m▆\u001b[39m▂\u001b[39m▂\u001b[39m▁\u001b[39m▂\u001b[34m▃\u001b[39m\u001b[39m█\u001b[32m▂\u001b[39m\u001b[39m▂\u001b[39m▂\u001b[39m▁\u001b[39m \u001b[39m▂\u001b[39m \u001b[39m \u001b[39m \u001b[39m \u001b[39m \u001b[39m \u001b[39m \u001b[39m \u001b[39m \u001b[39m \u001b[39m \u001b[39m \u001b[39m \u001b[39m \u001b[39m \u001b[39m \u001b[39m \u001b[39m \u001b[39m \u001b[39m \u001b[39m \u001b[39m \u001b[39m \u001b[39m \u001b[39m \u001b[39m \u001b[39m \u001b[39m \u001b[39m \u001b[39m \u001b[39m \u001b[39m \u001b[39m \u001b[39m \u001b[39m \u001b[39m \u001b[39m \u001b[39m \u001b[39m \n",
       "  \u001b[39m█\u001b[39m█\u001b[39m█\u001b[39m█\u001b[39m█\u001b[39m█\u001b[39m▇\u001b[39m▆\u001b[39m█\u001b[39m█\u001b[39m█\u001b[39m█\u001b[39m█\u001b[39m█\u001b[34m█\u001b[39m\u001b[39m█\u001b[32m█\u001b[39m\u001b[39m█\u001b[39m█\u001b[39m█\u001b[39m▇\u001b[39m█\u001b[39m▇\u001b[39m▇\u001b[39m▆\u001b[39m▆\u001b[39m▅\u001b[39m▅\u001b[39m▄\u001b[39m▃\u001b[39m▄\u001b[39m▅\u001b[39m▃\u001b[39m▂\u001b[39m▄\u001b[39m▃\u001b[39m▃\u001b[39m▁\u001b[39m▁\u001b[39m▂\u001b[39m▂\u001b[39m▁\u001b[39m▁\u001b[39m▃\u001b[39m▃\u001b[39m▁\u001b[39m▂\u001b[39m▂\u001b[39m▁\u001b[39m▂\u001b[39m▂\u001b[39m▁\u001b[39m▁\u001b[39m▁\u001b[39m▁\u001b[39m▁\u001b[39m▁\u001b[39m▂\u001b[39m▂\u001b[39m \u001b[39m▄\n",
       "  7.97 ms\u001b[90m         Histogram: frequency by time\u001b[39m        8.83 ms \u001b[0m\u001b[1m<\u001b[22m\n",
       "\n",
       " Memory estimate\u001b[90m: \u001b[39m\u001b[33m0 bytes\u001b[39m, allocs estimate\u001b[90m: \u001b[39m\u001b[33m0\u001b[39m."
      ]
     },
     "execution_count": 10,
     "metadata": {},
     "output_type": "execute_result"
    }
   ],
   "source": [
    "a_billion = 1_000_000_000\n",
    "l = random_pauli(a_billion)\n",
    "r = random_pauli(a_billion)\n",
    "\n",
    "@benchmark comm(l, r)"
   ]
  },
  {
   "cell_type": "markdown",
   "metadata": {},
   "source": [
    "Two bits per Pauli; multiple qubits packed in a single Int primitive type."
   ]
  },
  {
   "cell_type": "code",
   "execution_count": 11,
   "metadata": {},
   "outputs": [],
   "source": [
    "p = P\"XIZY\"\n",
    "\n",
    "bitstring.(UInt8.(p.xz))\n",
    "\n",
    "bits(arr) = bitstring.(UInt8.(arr));"
   ]
  },
  {
   "cell_type": "markdown",
   "metadata": {},
   "source": [
    "## Pauli multiplication is bitwise ⊻ (XOR)"
   ]
  },
  {
   "cell_type": "code",
   "execution_count": 12,
   "metadata": {},
   "outputs": [
    {
     "data": {
      "text/plain": [
       "-iY"
      ]
     },
     "execution_count": 12,
     "metadata": {},
     "output_type": "execute_result"
    }
   ],
   "source": [
    "P\"X\" * P\"Z\""
   ]
  },
  {
   "cell_type": "code",
   "execution_count": 13,
   "metadata": {},
   "outputs": [
    {
     "data": {
      "text/plain": [
       "([\"00000011\", \"00000010\"], [\"00000000\", \"00000011\"])"
      ]
     },
     "execution_count": 13,
     "metadata": {},
     "output_type": "execute_result"
    }
   ],
   "source": [
    "(P\"XYI\".xz, P\"ZZI\".xz) .|> bits"
   ]
  },
  {
   "cell_type": "code",
   "execution_count": 14,
   "metadata": {},
   "outputs": [
    {
     "data": {
      "text/plain": [
       "2-element Vector{String}:\n",
       " \"00000011\"\n",
       " \"00000001\""
      ]
     },
     "execution_count": 14,
     "metadata": {},
     "output_type": "execute_result"
    }
   ],
   "source": [
    "(P\"XYI\" * P\"ZZI\").xz .|> bits"
   ]
  },
  {
   "cell_type": "code",
   "execution_count": 15,
   "metadata": {},
   "outputs": [
    {
     "data": {
      "text/plain": [
       "2-element Vector{String}:\n",
       " \"00000011\"\n",
       " \"00000001\""
      ]
     },
     "execution_count": 15,
     "metadata": {},
     "output_type": "execute_result"
    }
   ],
   "source": [
    "(P\"XYI\".xz .⊻ P\"ZZI\".xz) .|> bits"
   ]
  },
  {
   "cell_type": "markdown",
   "metadata": {},
   "source": [
    "# Stabilizer states\n",
    "\n",
    "Instead of defining a state by its amplitudes in a given basis,\n",
    "we can define it by specifying a commuting set of operators for which\n",
    "the state is an eigenstate with known eigenvalues.\n",
    "That is known as the Heienberg picture.\n",
    "We call these operators \"stabilizing operators\"."
   ]
  },
  {
   "cell_type": "code",
   "execution_count": 16,
   "metadata": {},
   "outputs": [
    {
     "data": {
      "text/plain": [
       "+ X"
      ]
     },
     "execution_count": 16,
     "metadata": {},
     "output_type": "execute_result"
    }
   ],
   "source": [
    "S\"X\""
   ]
  },
  {
   "cell_type": "code",
   "execution_count": 17,
   "metadata": {},
   "outputs": [
    {
     "data": {
      "text/plain": [
       "Ket(dim=2)\n",
       "  basis: Spin(1/2)\n",
       " 0.7071067811865475 + 0.0im\n",
       " 0.7071067811865475 + 0.0im"
      ]
     },
     "execution_count": 17,
     "metadata": {},
     "output_type": "execute_result"
    }
   ],
   "source": [
    "S\"X\" |> Ket"
   ]
  },
  {
   "cell_type": "code",
   "execution_count": 18,
   "metadata": {},
   "outputs": [
    {
     "data": {
      "text/plain": [
       "Ket(dim=2)\n",
       "  basis: Spin(1/2)\n",
       " 0.9999999999999999 + 0.0im\n",
       "                0.0 + 0.0im"
      ]
     },
     "execution_count": 18,
     "metadata": {},
     "output_type": "execute_result"
    }
   ],
   "source": [
    "S\"Z\" |> Ket"
   ]
  },
  {
   "cell_type": "code",
   "execution_count": 19,
   "metadata": {},
   "outputs": [
    {
     "data": {
      "text/plain": [
       "+ Z_\n",
       "+ _Z"
      ]
     },
     "execution_count": 19,
     "metadata": {},
     "output_type": "execute_result"
    }
   ],
   "source": [
    "S\"Z\" ⊗ S\"Z\""
   ]
  },
  {
   "cell_type": "code",
   "execution_count": 20,
   "metadata": {},
   "outputs": [
    {
     "data": {
      "text/plain": [
       "Ket(dim=4)\n",
       "  basis: [Spin(1/2) ⊗ Spin(1/2)]\n",
       " 0.9999999999999997 + 0.0im\n",
       "                0.0 + 0.0im\n",
       "                0.0 + 0.0im\n",
       "                0.0 + 0.0im"
      ]
     },
     "execution_count": 20,
     "metadata": {},
     "output_type": "execute_result"
    }
   ],
   "source": [
    "S\"ZI IZ\" |> Ket"
   ]
  },
  {
   "cell_type": "code",
   "execution_count": 21,
   "metadata": {},
   "outputs": [
    {
     "data": {
      "text/plain": [
       "Ket(dim=4)\n",
       "  basis: [Spin(1/2) ⊗ Spin(1/2)]\n",
       "                0.0 + 0.0im\n",
       "                0.0 + 0.0im\n",
       " 0.9999999999999997 + 0.0im\n",
       "                0.0 + 0.0im"
      ]
     },
     "execution_count": 21,
     "metadata": {},
     "output_type": "execute_result"
    }
   ],
   "source": [
    "S\"ZI -IZ\" |> Ket"
   ]
  },
  {
   "cell_type": "code",
   "execution_count": 22,
   "metadata": {},
   "outputs": [
    {
     "data": {
      "text/plain": [
       "Ket(dim=4)\n",
       "  basis: [Spin(1/2) ⊗ Spin(1/2)]\n",
       " 0.7071067811865474 + 0.0im\n",
       "                0.0 + 0.0im\n",
       "                0.0 + 0.0im\n",
       " 0.7071067811865474 + 0.0im"
      ]
     },
     "execution_count": 22,
     "metadata": {},
     "output_type": "execute_result"
    }
   ],
   "source": [
    "S\"XX ZZ\" |> Ket"
   ]
  },
  {
   "cell_type": "markdown",
   "metadata": {},
   "source": [
    "It is helpful to think of them as a system of linear equations,\n",
    "a set of constraints that have only one solution,\n",
    "the unique state being stabilized.\n",
    "\n",
    "There are many ways to write equivalent set of equations,\n",
    "e.g. just by doing row operations on the matrix of coefficients."
   ]
  },
  {
   "cell_type": "code",
   "execution_count": 23,
   "metadata": {},
   "outputs": [
    {
     "data": {
      "text/plain": [
       "+ Z_\n",
       "+ _Z"
      ]
     },
     "execution_count": 23,
     "metadata": {},
     "output_type": "execute_result"
    }
   ],
   "source": [
    "state = S\"ZI IZ\""
   ]
  },
  {
   "cell_type": "code",
   "execution_count": 24,
   "metadata": {},
   "outputs": [
    {
     "data": {
      "text/plain": [
       "+ Z_\n",
       "+ ZZ"
      ]
     },
     "execution_count": 24,
     "metadata": {},
     "output_type": "execute_result"
    }
   ],
   "source": [
    "row1 = state[1]\n",
    "row2 = state[2]\n",
    "new_state = Stabilizer([row1, row1*row2])"
   ]
  },
  {
   "cell_type": "code",
   "execution_count": 25,
   "metadata": {},
   "outputs": [
    {
     "data": {
      "text/plain": [
       "Ket(dim=4)\n",
       "  basis: [Spin(1/2) ⊗ Spin(1/2)]\n",
       " 0.9999999999999997 + 0.0im\n",
       "                0.0 + 0.0im\n",
       "                0.0 + 0.0im\n",
       "                0.0 + 0.0im"
      ]
     },
     "execution_count": 25,
     "metadata": {},
     "output_type": "execute_result"
    }
   ],
   "source": [
    "state |> Ket"
   ]
  },
  {
   "cell_type": "code",
   "execution_count": 26,
   "metadata": {},
   "outputs": [
    {
     "data": {
      "text/plain": [
       "Ket(dim=4)\n",
       "  basis: [Spin(1/2) ⊗ Spin(1/2)]\n",
       " 0.9999999999999997 + 0.0im\n",
       "                0.0 + 0.0im\n",
       "                0.0 + 0.0im\n",
       "                0.0 + 0.0im"
      ]
     },
     "execution_count": 26,
     "metadata": {},
     "output_type": "execute_result"
    }
   ],
   "source": [
    "new_state |> Ket"
   ]
  },
  {
   "cell_type": "markdown",
   "metadata": {},
   "source": [
    "You can do (binary) Gaussian elimination to get a canonical form."
   ]
  },
  {
   "cell_type": "code",
   "execution_count": 27,
   "metadata": {},
   "outputs": [
    {
     "data": {
      "text/plain": [
       "+ Z_\n",
       "+ _Z"
      ]
     },
     "execution_count": 27,
     "metadata": {},
     "output_type": "execute_result"
    }
   ],
   "source": [
    "canonicalize!(new_state)"
   ]
  },
  {
   "cell_type": "markdown",
   "metadata": {},
   "source": [
    "There is a variety of different ways to do the Gaussian elimination\n",
    "(do you run first X, then Z, interleave, etc), and each is useful in different contexts."
   ]
  },
  {
   "cell_type": "code",
   "execution_count": 28,
   "metadata": {},
   "outputs": [
    {
     "data": {
      "image/png": "[encoded data removed]",
      "text/html": [
       "<img width=600 height=450 style='object-fit: contain; height: auto;' src=\"data:image/png;base64, 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\"/>"
      ],
      "text/plain": [
       "Figure()"
      ]
     },
     "execution_count": 28,
     "metadata": {},
     "output_type": "execute_result"
    }
   ],
   "source": [
    "state = random_stabilizer(10, 20);\n",
    "fig = Figure();\n",
    "stabilizerplot_axis(fig[1,1], state);\n",
    "fig"
   ]
  },
  {
   "cell_type": "code",
   "execution_count": 29,
   "metadata": {},
   "outputs": [
    {
     "data": {
      "image/png": "[encoded data removed]",
      "text/html": [
       "<img width=600 height=450 style='object-fit: contain; height: auto;' src=\"data:image/png;base64, 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\"/>"
      ],
      "text/plain": [
       "Figure()"
      ]
     },
     "execution_count": 29,
     "metadata": {},
     "output_type": "execute_result"
    }
   ],
   "source": [
    "canonicalize!(state);\n",
    "fig = Figure();\n",
    "stabilizerplot_axis(fig[1,1], state);\n",
    "fig"
   ]
  },
  {
   "cell_type": "code",
   "execution_count": 30,
   "metadata": {},
   "outputs": [
    {
     "data": {
      "image/png": "[encoded data removed]",
      "text/html": [
       "<img width=600 height=450 style='object-fit: contain; height: auto;' src=\"data:image/png;base64, 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\"/>"
      ],
      "text/plain": [
       "Figure()"
      ]
     },
     "execution_count": 30,
     "metadata": {},
     "output_type": "execute_result"
    }
   ],
   "source": [
    "canonicalize_rref!(state);\n",
    "fig = Figure();\n",
    "stabilizerplot_axis(fig[1,1], state);\n",
    "fig"
   ]
  },
  {
   "cell_type": "code",
   "execution_count": 31,
   "metadata": {},
   "outputs": [
    {
     "data": {
      "image/png": "[encoded data removed]",
      "text/html": [
       "<img width=600 height=450 style='object-fit: contain; height: auto;' src=\"data:image/png;base64, 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\"/>"
      ],
      "text/plain": [
       "Figure()"
      ]
     },
     "execution_count": 31,
     "metadata": {},
     "output_type": "execute_result"
    }
   ],
   "source": [
    "canonicalize_clip!(state);\n",
    "fig = Figure();\n",
    "stabilizerplot_axis(fig[1,1], state);\n",
    "fig"
   ]
  },
  {
   "cell_type": "code",
   "execution_count": 32,
   "metadata": {},
   "outputs": [
    {
     "data": {
      "image/png": "[encoded data removed]",
      "text/html": [
       "<img width=600 height=450 style='object-fit: contain; height: auto;' src=\"data:image/png;base64, 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\"/>"
      ],
      "text/plain": [
       "Figure()"
      ]
     },
     "execution_count": 32,
     "metadata": {},
     "output_type": "execute_result"
    }
   ],
   "source": [
    "canonicalize_gott!(state);\n",
    "fig = Figure();\n",
    "stabilizerplot_axis(fig[1,1], state);\n",
    "fig"
   ]
  },
  {
   "cell_type": "markdown",
   "metadata": {},
   "source": [
    "# Unitary dynamics of a Stabilizer state\n",
    "\n",
    "If we have a Unitary `U` and a state `|ψ⟩`, then `U|ψ⟩` is the new state after evolution.\n",
    "\n",
    "If we use the Heisenberg picture, we have an Operator `O` used as a stand-in to represent\n",
    "its eigenstate `|ψ⟩`. Then the stand-in for the evolved state is `U O U†`.\n",
    "\n",
    "On its this is not a more efficient representation.\n",
    "It is computationally worse -- we need to track a bunch of matrix-matrix multiplications,\n",
    "instead of a single matrix-vector multiplication.\n",
    "However things change, if we:\n",
    "    - stick only to operators that are efficient to implicitly represent\n",
    "    - and have an efficient rule how to update the operator when we apply a gate\n",
    "\n",
    "then we can avoid the exponential cost of the typical state vector representation.\n",
    "\n",
    "If the operators we use in the Heisenberg picture are only Pauli operators,\n",
    "then we do have everything we need for efficient representation,\n",
    "but what we lose is that we now support only Unitaries from the Clifford group,\n",
    "i.e. the unitary subgroup that maps Pauli operators to Pauli operators."
   ]
  },
  {
   "cell_type": "markdown",
   "metadata": {},
   "source": [
    "## Clifford action as binary matrix multiplication\n",
    "\n",
    "We can write Pauli operators as binary vectors,\n",
    "and we can decompose such vectors into weighted sums of basis vectors."
   ]
  },
  {
   "cell_type": "code",
   "execution_count": 33,
   "metadata": {},
   "outputs": [
    {
     "data": {
      "text/plain": [
       "+ XYZ"
      ]
     },
     "execution_count": 33,
     "metadata": {},
     "output_type": "execute_result"
    }
   ],
   "source": [
    "P\"XYZ\""
   ]
  },
  {
   "cell_type": "code",
   "execution_count": 34,
   "metadata": {},
   "outputs": [
    {
     "data": {
      "text/plain": [
       "-iXYZ"
      ]
     },
     "execution_count": 34,
     "metadata": {},
     "output_type": "execute_result"
    }
   ],
   "source": [
    "P\"XII\" * P\"IXI\" * P\"IZI\" * P\"IIZ\""
   ]
  },
  {
   "cell_type": "markdown",
   "metadata": {},
   "source": [
    "Above we have the \"sum\" of four Pauli \"binary basis vectors\".\n",
    "\n",
    "The confusing thing is that these three are the same:\n",
    "    - multiplication of Pauli matrices\n",
    "    - addition (mod 2) of the binary representation of the Pauli matrices\n",
    "    - bitwise XOR of the binary representation of the Pauli matrices"
   ]
  },
  {
   "cell_type": "markdown",
   "metadata": {},
   "source": [
    "The application of Clifford unitaries is now simply a binary matrix multiplication."
   ]
  },
  {
   "cell_type": "code",
   "execution_count": 35,
   "metadata": {},
   "outputs": [
    {
     "data": {
      "text/plain": [
       "X₁ ⟼ + XX\n",
       "X₂ ⟼ + _X\n",
       "Z₁ ⟼ + Z_\n",
       "Z₂ ⟼ + ZZ"
      ]
     },
     "execution_count": 35,
     "metadata": {},
     "output_type": "execute_result"
    }
   ],
   "source": [
    "tCNOT"
   ]
  },
  {
   "cell_type": "markdown",
   "metadata": {},
   "source": [
    "Preparing a Bell pair"
   ]
  },
  {
   "cell_type": "code",
   "execution_count": 36,
   "metadata": {},
   "outputs": [
    {
     "data": {
      "text/plain": [
       "+ XX\n",
       "+ ZZ"
      ]
     },
     "execution_count": 36,
     "metadata": {},
     "output_type": "execute_result"
    }
   ],
   "source": [
    "tCNOT * S\"XI IZ\""
   ]
  },
  {
   "cell_type": "markdown",
   "metadata": {},
   "source": [
    "Starting with a complicated state"
   ]
  },
  {
   "cell_type": "code",
   "execution_count": 37,
   "metadata": {},
   "outputs": [
    {
     "data": {
      "text/plain": [
       "+ YZ"
      ]
     },
     "execution_count": 37,
     "metadata": {},
     "output_type": "execute_result"
    }
   ],
   "source": [
    "tCNOT * S\"XY\""
   ]
  },
  {
   "cell_type": "code",
   "execution_count": 38,
   "metadata": {},
   "outputs": [
    {
     "data": {
      "text/plain": [
       "-iXY"
      ]
     },
     "execution_count": 38,
     "metadata": {},
     "output_type": "execute_result"
    }
   ],
   "source": [
    "P\"XI\" * P\"IX\" * P\"IZ\""
   ]
  },
  {
   "cell_type": "code",
   "execution_count": 39,
   "metadata": {},
   "outputs": [
    {
     "data": {
      "text/plain": [
       "X₁ ⟼ + XX\n",
       "X₂ ⟼ + _X\n",
       "Z₁ ⟼ + Z_\n",
       "Z₂ ⟼ + ZZ"
      ]
     },
     "execution_count": 39,
     "metadata": {},
     "output_type": "execute_result"
    }
   ],
   "source": [
    "tCNOT"
   ]
  },
  {
   "cell_type": "code",
   "execution_count": 40,
   "metadata": {},
   "outputs": [
    {
     "data": {
      "text/plain": [
       "-iYZ"
      ]
     },
     "execution_count": 40,
     "metadata": {},
     "output_type": "execute_result"
    }
   ],
   "source": [
    "P\"XX\" * P\"IX\" * P\"ZZ\""
   ]
  },
  {
   "cell_type": "markdown",
   "metadata": {},
   "source": [
    "Let's see it again, but in binary"
   ]
  },
  {
   "cell_type": "code",
   "execution_count": 41,
   "metadata": {},
   "outputs": [
    {
     "data": {
      "text/plain": [
       "4×4 adjoint(::Matrix{Bool}) with eltype Bool:\n",
       " 1  0  0  0\n",
       " 1  1  0  0\n",
       " 0  0  1  1\n",
       " 0  0  0  1"
      ]
     },
     "execution_count": 41,
     "metadata": {},
     "output_type": "execute_result"
    }
   ],
   "source": [
    "gf2CNOT = stab_to_gf2(tab(tCNOT))'"
   ]
  },
  {
   "cell_type": "code",
   "execution_count": 42,
   "metadata": {},
   "outputs": [
    {
     "data": {
      "text/plain": [
       "4×1 adjoint(::Matrix{Bool}) with eltype Bool:\n",
       " 1\n",
       " 1\n",
       " 0\n",
       " 1"
      ]
     },
     "execution_count": 42,
     "metadata": {},
     "output_type": "execute_result"
    }
   ],
   "source": [
    "gf2stab = stab_to_gf2(S\"XY\")'"
   ]
  },
  {
   "cell_type": "code",
   "execution_count": 43,
   "metadata": {},
   "outputs": [
    {
     "data": {
      "text/plain": [
       "4×1 Matrix{Int64}:\n",
       " 1\n",
       " 0\n",
       " 1\n",
       " 1"
      ]
     },
     "execution_count": 43,
     "metadata": {},
     "output_type": "execute_result"
    }
   ],
   "source": [
    "gf2CNOT * gf2stab .% 2"
   ]
  },
  {
   "cell_type": "code",
   "execution_count": 44,
   "metadata": {},
   "outputs": [
    {
     "data": {
      "text/plain": [
       "1×4 Matrix{Bool}:\n",
       " 1  0  1  1"
      ]
     },
     "execution_count": 44,
     "metadata": {},
     "output_type": "execute_result"
    }
   ],
   "source": [
    "stab_to_gf2(tCNOT*S\"XY\")"
   ]
  },
  {
   "cell_type": "markdown",
   "metadata": {},
   "source": [
    "# Named Small Gates\n",
    "\n",
    "Usually you just run a circuit involving a single- and two-qubit gates.\n",
    "For those we have specialized fast gate implementations."
   ]
  },
  {
   "cell_type": "code",
   "execution_count": 45,
   "metadata": {},
   "outputs": [
    {
     "data": {
      "text/plain": [
       "BenchmarkTools.Trial: 10000 samples with 9 evaluations per sample.\n",
       " Range \u001b[90m(\u001b[39m\u001b[36m\u001b[1mmin\u001b[22m\u001b[39m … \u001b[35mmax\u001b[39m\u001b[90m):  \u001b[39m\u001b[36m\u001b[1m2.635 μs\u001b[22m\u001b[39m … \u001b[35m  7.255 μs\u001b[39m  \u001b[90m┊\u001b[39m GC \u001b[90m(\u001b[39mmin … max\u001b[90m): \u001b[39m0.00% … 0.00%\n",
       " Time  \u001b[90m(\u001b[39m\u001b[34m\u001b[1mmedian\u001b[22m\u001b[39m\u001b[90m):     \u001b[39m\u001b[34m\u001b[1m2.750 μs               \u001b[22m\u001b[39m\u001b[90m┊\u001b[39m GC \u001b[90m(\u001b[39mmedian\u001b[90m):    \u001b[39m0.00%\n",
       " Time  \u001b[90m(\u001b[39m\u001b[32m\u001b[1mmean\u001b[22m\u001b[39m ± \u001b[32mσ\u001b[39m\u001b[90m):   \u001b[39m\u001b[32m\u001b[1m2.797 μs\u001b[22m\u001b[39m ± \u001b[32m223.126 ns\u001b[39m  \u001b[90m┊\u001b[39m GC \u001b[90m(\u001b[39mmean ± σ\u001b[90m):  \u001b[39m0.00% ± 0.00%\n",
       "\n",
       "  \u001b[39m \u001b[39m▁\u001b[39m▄\u001b[39m▇\u001b[39m█\u001b[39m█\u001b[34m█\u001b[39m\u001b[39m▇\u001b[32m▆\u001b[39m\u001b[39m▅\u001b[39m▄\u001b[39m▄\u001b[39m▃\u001b[39m▂\u001b[39m▁\u001b[39m▁\u001b[39m \u001b[39m \u001b[39m \u001b[39m \u001b[39m \u001b[39m \u001b[39m \u001b[39m \u001b[39m \u001b[39m \u001b[39m \u001b[39m \u001b[39m▁\u001b[39m \u001b[39m \u001b[39m \u001b[39m \u001b[39m \u001b[39m \u001b[39m \u001b[39m \u001b[39m \u001b[39m \u001b[39m \u001b[39m \u001b[39m \u001b[39m \u001b[39m \u001b[39m \u001b[39m \u001b[39m \u001b[39m \u001b[39m \u001b[39m \u001b[39m \u001b[39m \u001b[39m \u001b[39m \u001b[39m \u001b[39m \u001b[39m \u001b[39m \u001b[39m \u001b[39m \u001b[39m▂\n",
       "  \u001b[39m▆\u001b[39m█\u001b[39m█\u001b[39m█\u001b[39m█\u001b[39m█\u001b[34m█\u001b[39m\u001b[39m█\u001b[32m█\u001b[39m\u001b[39m█\u001b[39m█\u001b[39m█\u001b[39m█\u001b[39m█\u001b[39m█\u001b[39m█\u001b[39m█\u001b[39m▇\u001b[39m▇\u001b[39m▆\u001b[39m▇\u001b[39m▆\u001b[39m▇\u001b[39m▇\u001b[39m█\u001b[39m▇\u001b[39m█\u001b[39m█\u001b[39m█\u001b[39m█\u001b[39m█\u001b[39m█\u001b[39m█\u001b[39m▆\u001b[39m▇\u001b[39m▇\u001b[39m▆\u001b[39m▆\u001b[39m▇\u001b[39m▅\u001b[39m▆\u001b[39m▅\u001b[39m▆\u001b[39m▅\u001b[39m▇\u001b[39m▆\u001b[39m▅\u001b[39m▆\u001b[39m▆\u001b[39m▁\u001b[39m▄\u001b[39m▆\u001b[39m▅\u001b[39m▄\u001b[39m▅\u001b[39m▆\u001b[39m▅\u001b[39m▆\u001b[39m▅\u001b[39m \u001b[39m█\n",
       "  2.64 μs\u001b[90m      \u001b[39m\u001b[90mHistogram: \u001b[39m\u001b[90m\u001b[1mlog(\u001b[22m\u001b[39m\u001b[90mfrequency\u001b[39m\u001b[90m\u001b[1m)\u001b[22m\u001b[39m\u001b[90m by time\u001b[39m      3.76 μs \u001b[0m\u001b[1m<\u001b[22m\n",
       "\n",
       " Memory estimate\u001b[90m: \u001b[39m\u001b[33m112 bytes\u001b[39m, allocs estimate\u001b[90m: \u001b[39m\u001b[33m3\u001b[39m."
      ]
     },
     "execution_count": 45,
     "metadata": {},
     "output_type": "execute_result"
    }
   ],
   "source": [
    "state = random_stabilizer(100);\n",
    "@benchmark apply!(state, tCNOT, [1,2])"
   ]
  },
  {
   "cell_type": "code",
   "execution_count": 46,
   "metadata": {},
   "outputs": [
    {
     "data": {
      "text/plain": [
       "BenchmarkTools.Trial: 10000 samples with 280 evaluations per sample.\n",
       " Range \u001b[90m(\u001b[39m\u001b[36m\u001b[1mmin\u001b[22m\u001b[39m … \u001b[35mmax\u001b[39m\u001b[90m):  \u001b[39m\u001b[36m\u001b[1m285.757 ns\u001b[22m\u001b[39m … \u001b[35m524.782 ns\u001b[39m  \u001b[90m┊\u001b[39m GC \u001b[90m(\u001b[39mmin … max\u001b[90m): \u001b[39m0.00% … 0.00%\n",
       " Time  \u001b[90m(\u001b[39m\u001b[34m\u001b[1mmedian\u001b[22m\u001b[39m\u001b[90m):     \u001b[39m\u001b[34m\u001b[1m290.336 ns               \u001b[22m\u001b[39m\u001b[90m┊\u001b[39m GC \u001b[90m(\u001b[39mmedian\u001b[90m):    \u001b[39m0.00%\n",
       " Time  \u001b[90m(\u001b[39m\u001b[32m\u001b[1mmean\u001b[22m\u001b[39m ± \u001b[32mσ\u001b[39m\u001b[90m):   \u001b[39m\u001b[32m\u001b[1m292.737 ns\u001b[22m\u001b[39m ± \u001b[32m  8.648 ns\u001b[39m  \u001b[90m┊\u001b[39m GC \u001b[90m(\u001b[39mmean ± σ\u001b[90m):  \u001b[39m0.00% ± 0.00%\n",
       "\n",
       "  \u001b[39m \u001b[39m \u001b[39m \u001b[39m \u001b[39m \u001b[39m \u001b[39m▄\u001b[39m▆\u001b[39m█\u001b[34m▆\u001b[39m\u001b[39m▃\u001b[39m \u001b[39m \u001b[39m \u001b[32m \u001b[39m\u001b[39m \u001b[39m \u001b[39m \u001b[39m \u001b[39m \u001b[39m \u001b[39m \u001b[39m \u001b[39m \u001b[39m \u001b[39m \u001b[39m \u001b[39m \u001b[39m \u001b[39m \u001b[39m \u001b[39m \u001b[39m \u001b[39m \u001b[39m \u001b[39m \u001b[39m \u001b[39m \u001b[39m \u001b[39m \u001b[39m \u001b[39m \u001b[39m \u001b[39m \u001b[39m \u001b[39m \u001b[39m \u001b[39m \u001b[39m \u001b[39m \u001b[39m \u001b[39m \u001b[39m \u001b[39m \u001b[39m \u001b[39m \u001b[39m \u001b[39m \u001b[39m \u001b[39m \u001b[39m \u001b[39m \u001b[39m \n",
       "  \u001b[39m▁\u001b[39m▁\u001b[39m▂\u001b[39m▃\u001b[39m▅\u001b[39m█\u001b[39m█\u001b[39m█\u001b[39m█\u001b[34m█\u001b[39m\u001b[39m█\u001b[39m▇\u001b[39m▄\u001b[39m▃\u001b[32m▂\u001b[39m\u001b[39m▂\u001b[39m▂\u001b[39m▂\u001b[39m▂\u001b[39m▂\u001b[39m▂\u001b[39m▂\u001b[39m▂\u001b[39m▂\u001b[39m▂\u001b[39m▂\u001b[39m▂\u001b[39m▂\u001b[39m▂\u001b[39m▂\u001b[39m▂\u001b[39m▂\u001b[39m▂\u001b[39m▂\u001b[39m▂\u001b[39m▂\u001b[39m▂\u001b[39m▂\u001b[39m▂\u001b[39m▂\u001b[39m▂\u001b[39m▁\u001b[39m▁\u001b[39m▁\u001b[39m▁\u001b[39m▁\u001b[39m▁\u001b[39m▁\u001b[39m▁\u001b[39m▁\u001b[39m▁\u001b[39m▁\u001b[39m▁\u001b[39m▁\u001b[39m▁\u001b[39m▁\u001b[39m▁\u001b[39m▁\u001b[39m▁\u001b[39m▁\u001b[39m▁\u001b[39m \u001b[39m▂\n",
       "  286 ns\u001b[90m           Histogram: frequency by time\u001b[39m          316 ns \u001b[0m\u001b[1m<\u001b[22m\n",
       "\n",
       " Memory estimate\u001b[90m: \u001b[39m\u001b[33m32 bytes\u001b[39m, allocs estimate\u001b[90m: \u001b[39m\u001b[33m1\u001b[39m."
      ]
     },
     "execution_count": 46,
     "metadata": {},
     "output_type": "execute_result"
    }
   ],
   "source": [
    "@benchmark apply!(state, sCNOT(1,2))"
   ]
  },
  {
   "cell_type": "markdown",
   "metadata": {},
   "source": [
    "# Pauli Measurements\n",
    "\n",
    "Besides unitary dynamics, we also care about measurements.\n",
    "\n",
    "## Measuring a non-commuting operator\n",
    "\n",
    "The easy case is when we measure an operator that does not commute with all the stabilizers that define the state.\n",
    "Just remove the non-commuting stabilizer and put in the measurement operator (with a random phase)."
   ]
  },
  {
   "cell_type": "code",
   "execution_count": 47,
   "metadata": {},
   "outputs": [
    {
     "data": {
      "text/plain": [
       "+ Z"
      ]
     },
     "execution_count": 47,
     "metadata": {},
     "output_type": "execute_result"
    }
   ],
   "source": [
    "project!(S\"X\", P\"Z\")[1] # project! gives a bunch of information; here just get the final state"
   ]
  },
  {
   "cell_type": "markdown",
   "metadata": {},
   "source": [
    "But what if there are more than one non-commuting stabilizers?\n",
    "Do row operations until only one is left.\n",
    "\n",
    "Doing it manually to see the steps:"
   ]
  },
  {
   "cell_type": "code",
   "execution_count": 48,
   "metadata": {},
   "outputs": [
    {
     "data": {
      "text/plain": [
       "+ XXX\n",
       "+ ZZ_\n",
       "+ Z_Z"
      ]
     },
     "execution_count": 48,
     "metadata": {},
     "output_type": "execute_result"
    }
   ],
   "source": [
    "state = S\"XXX ZZI IZZ\"\n",
    "meas = P\"IXI\"\n",
    "\n",
    "QuantumClifford.mul_left!(state, 3, 2)"
   ]
  },
  {
   "cell_type": "code",
   "execution_count": 49,
   "metadata": {},
   "outputs": [
    {
     "data": {
      "text/plain": [
       "+ XXX\n",
       "+ _X_\n",
       "+ Z_Z"
      ]
     },
     "execution_count": 49,
     "metadata": {},
     "output_type": "execute_result"
    }
   ],
   "source": [
    "state[2] = meas\n",
    "state"
   ]
  },
  {
   "cell_type": "markdown",
   "metadata": {},
   "source": [
    "Using the built-in implementation:"
   ]
  },
  {
   "cell_type": "code",
   "execution_count": 50,
   "metadata": {},
   "outputs": [
    {
     "data": {
      "text/plain": [
       "+ XXX\n",
       "+ _X_\n",
       "+ Z_Z"
      ]
     },
     "execution_count": 50,
     "metadata": {},
     "output_type": "execute_result"
    }
   ],
   "source": [
    "project!(S\"XXX ZZI IZZ\", P\"IXI\")[1]"
   ]
  },
  {
   "cell_type": "markdown",
   "metadata": {},
   "source": [
    "## Measuring a commuting operator\n",
    "\n",
    "Now there is a definite answer, and you need to use Gaussian elimination to figure out\n",
    "what product of existing stabilizers is equal to the measurement operator (up to a phase),\n",
    "and the phase \"difference\" would be the measurement result"
   ]
  },
  {
   "cell_type": "code",
   "execution_count": 51,
   "metadata": {},
   "outputs": [
    {
     "data": {
      "text/plain": [
       "- YYX\n",
       "+ ZZ_\n",
       "+ _ZZ"
      ]
     },
     "execution_count": 51,
     "metadata": {},
     "output_type": "execute_result"
    }
   ],
   "source": [
    "state = S\"XXX ZZI IZZ\"\n",
    "meas = P\"YYX\"\n",
    "\n",
    "QuantumClifford.mul_left!(state, 1, 2)"
   ]
  },
  {
   "cell_type": "code",
   "execution_count": 52,
   "metadata": {},
   "outputs": [
    {
     "data": {
      "text/plain": [
       "0x02"
      ]
     },
     "execution_count": 52,
     "metadata": {},
     "output_type": "execute_result"
    }
   ],
   "source": [
    "project!(S\"XXX ZZI IZZ\", P\"YYX\")[3] # project! gives a bunch of information; here just get the phase"
   ]
  },
  {
   "cell_type": "markdown",
   "metadata": {},
   "source": [
    "# The Destabilizer Formalism\n",
    "\n",
    "We can keep track for \"basis\" non-commuting terms in order to skip the need for\n",
    "Gaussian elimination, speeding up the simulation of commuting measurements.\n",
    "To each stabilizer operator, we assign a destabilizer which commutes with everyone\n",
    "but the given stabilizer operator."
   ]
  },
  {
   "cell_type": "code",
   "execution_count": 53,
   "metadata": {},
   "outputs": [
    {
     "data": {
      "text/plain": [
       "𝒟ℯ𝓈𝓉𝒶𝒷\n",
       "+ Z__\n",
       "+ _X_\n",
       "+ __X\n",
       "𝒮𝓉𝒶𝒷━\n",
       "+ XXX\n",
       "+ ZZ_\n",
       "+ Z_Z"
      ]
     },
     "execution_count": 53,
     "metadata": {},
     "output_type": "execute_result"
    }
   ],
   "source": [
    "state = S\"XXX ZZI IZZ\"\n",
    "dstate = MixedDestabilizer(state)"
   ]
  },
  {
   "cell_type": "code",
   "execution_count": 54,
   "metadata": {},
   "outputs": [
    {
     "data": {
      "text/plain": [
       "+ XXX\n",
       "+ ZZ_\n",
       "+ Z_Z"
      ]
     },
     "execution_count": 54,
     "metadata": {},
     "output_type": "execute_result"
    }
   ],
   "source": [
    "stabilizerview(dstate)"
   ]
  },
  {
   "cell_type": "code",
   "execution_count": 55,
   "metadata": {},
   "outputs": [
    {
     "data": {
      "text/plain": [
       "+ Z__\n",
       "+ _X_\n",
       "+ __X"
      ]
     },
     "execution_count": 55,
     "metadata": {},
     "output_type": "execute_result"
    }
   ],
   "source": [
    "destabilizerview(dstate)"
   ]
  },
  {
   "cell_type": "code",
   "execution_count": 56,
   "metadata": {},
   "outputs": [
    {
     "data": {
      "text/plain": [
       "+ YYX"
      ]
     },
     "execution_count": 56,
     "metadata": {},
     "output_type": "execute_result"
    }
   ],
   "source": [
    "meas = P\"YYX\""
   ]
  },
  {
   "cell_type": "code",
   "execution_count": 57,
   "metadata": {},
   "outputs": [
    {
     "data": {
      "text/plain": [
       "7.0383e-5"
      ]
     },
     "execution_count": 57,
     "metadata": {},
     "output_type": "execute_result"
    }
   ],
   "source": [
    "state = random_stabilizer(100);\n",
    "dstate = MixedDestabilizer(state);\n",
    "meas = state[10]*state[30]*state[60];\n",
    "\n",
    "@elapsed project!(state, meas) # TODO too many allocations"
   ]
  },
  {
   "cell_type": "code",
   "execution_count": 58,
   "metadata": {},
   "outputs": [
    {
     "data": {
      "text/plain": [
       "4.619e-6"
      ]
     },
     "execution_count": 58,
     "metadata": {},
     "output_type": "execute_result"
    }
   ],
   "source": [
    "@elapsed project!(dstate, meas) # TODO some allocations"
   ]
  },
  {
   "cell_type": "markdown",
   "metadata": {},
   "source": [
    "# Single Qubit Measurements\n",
    "\n",
    "Similarly to the single-qubit named gates, we have faster implementations for single-qubit measurements."
   ]
  },
  {
   "cell_type": "code",
   "execution_count": 59,
   "metadata": {},
   "outputs": [
    {
     "data": {
      "text/plain": [
       "BenchmarkTools.Trial: 10000 samples with 1 evaluation per sample.\n",
       " Range \u001b[90m(\u001b[39m\u001b[36m\u001b[1mmin\u001b[22m\u001b[39m … \u001b[35mmax\u001b[39m\u001b[90m):  \u001b[39m\u001b[36m\u001b[1m5.490 μs\u001b[22m\u001b[39m … \u001b[35m 20.900 μs\u001b[39m  \u001b[90m┊\u001b[39m GC \u001b[90m(\u001b[39mmin … max\u001b[90m): \u001b[39m0.00% … 0.00%\n",
       " Time  \u001b[90m(\u001b[39m\u001b[34m\u001b[1mmedian\u001b[22m\u001b[39m\u001b[90m):     \u001b[39m\u001b[34m\u001b[1m5.731 μs               \u001b[22m\u001b[39m\u001b[90m┊\u001b[39m GC \u001b[90m(\u001b[39mmedian\u001b[90m):    \u001b[39m0.00%\n",
       " Time  \u001b[90m(\u001b[39m\u001b[32m\u001b[1mmean\u001b[22m\u001b[39m ± \u001b[32mσ\u001b[39m\u001b[90m):   \u001b[39m\u001b[32m\u001b[1m5.849 μs\u001b[22m\u001b[39m ± \u001b[32m659.503 ns\u001b[39m  \u001b[90m┊\u001b[39m GC \u001b[90m(\u001b[39mmean ± σ\u001b[90m):  \u001b[39m0.00% ± 0.00%\n",
       "\n",
       "  \u001b[39m▁\u001b[39m▂\u001b[39m \u001b[39m▅\u001b[39m█\u001b[34m▆\u001b[39m\u001b[39m▄\u001b[32m▃\u001b[39m\u001b[39m▁\u001b[39m \u001b[39m \u001b[39m \u001b[39m \u001b[39m \u001b[39m \u001b[39m \u001b[39m \u001b[39m \u001b[39m \u001b[39m \u001b[39m \u001b[39m \u001b[39m \u001b[39m \u001b[39m \u001b[39m \u001b[39m \u001b[39m \u001b[39m \u001b[39m \u001b[39m \u001b[39m \u001b[39m \u001b[39m \u001b[39m \u001b[39m \u001b[39m \u001b[39m \u001b[39m \u001b[39m \u001b[39m \u001b[39m \u001b[39m \u001b[39m \u001b[39m \u001b[39m \u001b[39m \u001b[39m \u001b[39m \u001b[39m \u001b[39m \u001b[39m \u001b[39m \u001b[39m \u001b[39m \u001b[39m \u001b[39m \u001b[39m \u001b[39m \u001b[39m \u001b[39m▁\n",
       "  \u001b[39m█\u001b[39m█\u001b[39m█\u001b[39m█\u001b[39m█\u001b[34m█\u001b[39m\u001b[39m█\u001b[32m█\u001b[39m\u001b[39m█\u001b[39m▇\u001b[39m▇\u001b[39m▆\u001b[39m▆\u001b[39m▇\u001b[39m▅\u001b[39m▆\u001b[39m▆\u001b[39m▇\u001b[39m▅\u001b[39m▄\u001b[39m▄\u001b[39m▅\u001b[39m▃\u001b[39m▅\u001b[39m▄\u001b[39m▅\u001b[39m▄\u001b[39m▃\u001b[39m▅\u001b[39m▄\u001b[39m▄\u001b[39m▅\u001b[39m▅\u001b[39m▅\u001b[39m▅\u001b[39m▅\u001b[39m▃\u001b[39m▅\u001b[39m▄\u001b[39m▅\u001b[39m▅\u001b[39m▄\u001b[39m▄\u001b[39m▅\u001b[39m▅\u001b[39m▃\u001b[39m▅\u001b[39m▅\u001b[39m▃\u001b[39m▃\u001b[39m▄\u001b[39m▄\u001b[39m▅\u001b[39m▄\u001b[39m▅\u001b[39m▃\u001b[39m▄\u001b[39m▅\u001b[39m▄\u001b[39m \u001b[39m█\n",
       "  5.49 μs\u001b[90m      \u001b[39m\u001b[90mHistogram: \u001b[39m\u001b[90m\u001b[1mlog(\u001b[22m\u001b[39m\u001b[90mfrequency\u001b[39m\u001b[90m\u001b[1m)\u001b[22m\u001b[39m\u001b[90m by time\u001b[39m      8.64 μs \u001b[0m\u001b[1m<\u001b[22m\n",
       "\n",
       " Memory estimate\u001b[90m: \u001b[39m\u001b[33m64 bytes\u001b[39m, allocs estimate\u001b[90m: \u001b[39m\u001b[33m2\u001b[39m."
      ]
     },
     "execution_count": 59,
     "metadata": {},
     "output_type": "execute_result"
    }
   ],
   "source": [
    "dstate = random_destabilizer(500)\n",
    "meas = single_x(500,4)\n",
    "named_meas = sMX(4)\n",
    "\n",
    "@benchmark apply!(_d, meas) setup=(_d=copy(dstate)) evals=1 # TODO this is faster!?"
   ]
  },
  {
   "cell_type": "code",
   "execution_count": 60,
   "metadata": {},
   "outputs": [
    {
     "data": {
      "text/plain": [
       "BenchmarkTools.Trial: 10000 samples with 1 evaluation per sample.\n",
       " Range \u001b[90m(\u001b[39m\u001b[36m\u001b[1mmin\u001b[22m\u001b[39m … \u001b[35mmax\u001b[39m\u001b[90m):  \u001b[39m\u001b[36m\u001b[1m 9.649 μs\u001b[22m\u001b[39m … \u001b[35m46.549 μs\u001b[39m  \u001b[90m┊\u001b[39m GC \u001b[90m(\u001b[39mmin … max\u001b[90m): \u001b[39m0.00% … 0.00%\n",
       " Time  \u001b[90m(\u001b[39m\u001b[34m\u001b[1mmedian\u001b[22m\u001b[39m\u001b[90m):     \u001b[39m\u001b[34m\u001b[1m10.049 μs              \u001b[22m\u001b[39m\u001b[90m┊\u001b[39m GC \u001b[90m(\u001b[39mmedian\u001b[90m):    \u001b[39m0.00%\n",
       " Time  \u001b[90m(\u001b[39m\u001b[32m\u001b[1mmean\u001b[22m\u001b[39m ± \u001b[32mσ\u001b[39m\u001b[90m):   \u001b[39m\u001b[32m\u001b[1m10.274 μs\u001b[22m\u001b[39m ± \u001b[32m 1.230 μs\u001b[39m  \u001b[90m┊\u001b[39m GC \u001b[90m(\u001b[39mmean ± σ\u001b[90m):  \u001b[39m0.00% ± 0.00%\n",
       "\n",
       "  \u001b[39m▂\u001b[39m▄\u001b[39m▆\u001b[39m█\u001b[34m▇\u001b[39m\u001b[39m▆\u001b[32m▄\u001b[39m\u001b[39m▃\u001b[39m▂\u001b[39m▁\u001b[39m▁\u001b[39m▁\u001b[39m \u001b[39m \u001b[39m \u001b[39m \u001b[39m \u001b[39m \u001b[39m \u001b[39m \u001b[39m \u001b[39m \u001b[39m \u001b[39m \u001b[39m \u001b[39m \u001b[39m \u001b[39m \u001b[39m \u001b[39m \u001b[39m \u001b[39m \u001b[39m \u001b[39m \u001b[39m \u001b[39m \u001b[39m \u001b[39m \u001b[39m \u001b[39m \u001b[39m \u001b[39m \u001b[39m \u001b[39m \u001b[39m \u001b[39m \u001b[39m \u001b[39m \u001b[39m \u001b[39m \u001b[39m \u001b[39m \u001b[39m \u001b[39m \u001b[39m \u001b[39m \u001b[39m \u001b[39m \u001b[39m \u001b[39m \u001b[39m▂\n",
       "  \u001b[39m█\u001b[39m█\u001b[39m█\u001b[39m█\u001b[34m█\u001b[39m\u001b[39m█\u001b[32m█\u001b[39m\u001b[39m█\u001b[39m█\u001b[39m█\u001b[39m█\u001b[39m█\u001b[39m█\u001b[39m█\u001b[39m▇\u001b[39m▇\u001b[39m▇\u001b[39m▆\u001b[39m▆\u001b[39m▆\u001b[39m▅\u001b[39m▅\u001b[39m▅\u001b[39m▅\u001b[39m▄\u001b[39m▄\u001b[39m▅\u001b[39m▅\u001b[39m▅\u001b[39m▅\u001b[39m▅\u001b[39m▅\u001b[39m▅\u001b[39m▄\u001b[39m▄\u001b[39m▃\u001b[39m▅\u001b[39m▄\u001b[39m▆\u001b[39m▅\u001b[39m▅\u001b[39m▅\u001b[39m▅\u001b[39m▅\u001b[39m▆\u001b[39m▄\u001b[39m▅\u001b[39m▄\u001b[39m▄\u001b[39m▆\u001b[39m▅\u001b[39m▄\u001b[39m▄\u001b[39m▅\u001b[39m▅\u001b[39m▄\u001b[39m▄\u001b[39m▃\u001b[39m▄\u001b[39m \u001b[39m█\n",
       "  9.65 μs\u001b[90m      \u001b[39m\u001b[90mHistogram: \u001b[39m\u001b[90m\u001b[1mlog(\u001b[22m\u001b[39m\u001b[90mfrequency\u001b[39m\u001b[90m\u001b[1m)\u001b[22m\u001b[39m\u001b[90m by time\u001b[39m      15.5 μs \u001b[0m\u001b[1m<\u001b[22m\n",
       "\n",
       " Memory estimate\u001b[90m: \u001b[39m\u001b[33m624 bytes\u001b[39m, allocs estimate\u001b[90m: \u001b[39m\u001b[33m11\u001b[39m."
      ]
     },
     "execution_count": 60,
     "metadata": {},
     "output_type": "execute_result"
    }
   ],
   "source": [
    "@benchmark apply!(_d, named_meas) setup=(_d=copy(dstate)) evals=1"
   ]
  },
  {
   "cell_type": "markdown",
   "metadata": {},
   "source": [
    "# Mixed Stabilizer States\n",
    "\n",
    "We can just give fewer than n constraints for n qubits. Such tableaux represent\n",
    "\"mixed stabilizer states\" (which is a specific term of art, different from just any arbitrary\n",
    "mixture of stabilizer states). A Mixed Stabilizer State is an equal mixture of all 2⁽ⁿ⁻ᶜ⁾\n",
    "stabilizer states that obey the given c<n constraints."
   ]
  },
  {
   "cell_type": "code",
   "execution_count": 61,
   "metadata": {},
   "outputs": [
    {
     "data": {
      "text/plain": [
       "2"
      ]
     },
     "execution_count": 61,
     "metadata": {},
     "output_type": "execute_result"
    }
   ],
   "source": [
    "mdstate = MixedDestabilizer(S\"ZZI IZZ\")\n",
    "\n",
    "using LinearAlgebra: rank\n",
    "\n",
    "rank(mdstate)"
   ]
  },
  {
   "cell_type": "markdown",
   "metadata": {},
   "source": [
    "Measurements can increase the rank"
   ]
  },
  {
   "cell_type": "code",
   "execution_count": 62,
   "metadata": {},
   "outputs": [
    {
     "data": {
      "text/plain": [
       "3"
      ]
     },
     "execution_count": 62,
     "metadata": {},
     "output_type": "execute_result"
    }
   ],
   "source": [
    "apply!(mdstate, PauliMeasurement(P\"XXX\"))\n",
    "\n",
    "rank(mdstate)"
   ]
  },
  {
   "cell_type": "markdown",
   "metadata": {},
   "source": [
    "Partial traces can lower the rank"
   ]
  },
  {
   "cell_type": "code",
   "execution_count": 63,
   "metadata": {},
   "outputs": [
    {
     "data": {
      "text/plain": [
       "1"
      ]
     },
     "execution_count": 63,
     "metadata": {},
     "output_type": "execute_result"
    }
   ],
   "source": [
    "traceout!(mdstate, [1])\n",
    "\n",
    "rank(mdstate)"
   ]
  },
  {
   "cell_type": "markdown",
   "metadata": {},
   "source": [
    "# Row- and Column-orientation\n",
    "\n",
    "Lastly, as usual with linear algebra operations (albeit binary linear algebra here)\n",
    "the way the matrices are stored matters a lot to performance."
   ]
  },
  {
   "cell_type": "code",
   "execution_count": 64,
   "metadata": {},
   "outputs": [
    {
     "data": {
      "text/plain": [
       "QuantumClifford.Tableau{Vector{UInt8}, Matrix{UInt64}}"
      ]
     },
     "execution_count": 64,
     "metadata": {},
     "output_type": "execute_result"
    }
   ],
   "source": [
    "s = random_destabilizer(600)\n",
    "c = random_clifford(600)\n",
    "p = random_pauli(600)\n",
    "\n",
    "typeof(tab(s))"
   ]
  },
  {
   "cell_type": "code",
   "execution_count": 65,
   "metadata": {},
   "outputs": [
    {
     "data": {
      "text/plain": [
       "QuantumClifford.Tableau{Vector{UInt8}, LinearAlgebra.Adjoint{UInt64, Matrix{UInt64}}}"
      ]
     },
     "execution_count": 65,
     "metadata": {},
     "output_type": "execute_result"
    }
   ],
   "source": [
    "typeof(fastcolumn(tab(s)))"
   ]
  },
  {
   "cell_type": "markdown",
   "metadata": {},
   "source": [
    "TODO not interesting"
   ]
  },
  {
   "cell_type": "code",
   "execution_count": 66,
   "metadata": {},
   "outputs": [
    {
     "name": "stdout",
     "output_type": "stream",
     "text": [
      "  9.984 ms (1 allocation: 32 bytes)\n"
     ]
    }
   ],
   "source": [
    "ccol = CliffordOperator(fastcolumn(tab(c))); # TODO there should be a method for clifford operator\n",
    "@btime apply!(s,c);"
   ]
  },
  {
   "cell_type": "code",
   "execution_count": 67,
   "metadata": {},
   "outputs": [
    {
     "data": {
      "text/plain": [
       "BenchmarkTools.Trial: 887 samples with 1 evaluation per sample.\n",
       " Range \u001b[90m(\u001b[39m\u001b[36m\u001b[1mmin\u001b[22m\u001b[39m … \u001b[35mmax\u001b[39m\u001b[90m):  \u001b[39m\u001b[36m\u001b[1m5.515 ms\u001b[22m\u001b[39m … \u001b[35m  7.487 ms\u001b[39m  \u001b[90m┊\u001b[39m GC \u001b[90m(\u001b[39mmin … max\u001b[90m): \u001b[39m0.00% … 0.00%\n",
       " Time  \u001b[90m(\u001b[39m\u001b[34m\u001b[1mmedian\u001b[22m\u001b[39m\u001b[90m):     \u001b[39m\u001b[34m\u001b[1m5.613 ms               \u001b[22m\u001b[39m\u001b[90m┊\u001b[39m GC \u001b[90m(\u001b[39mmedian\u001b[90m):    \u001b[39m0.00%\n",
       " Time  \u001b[90m(\u001b[39m\u001b[32m\u001b[1mmean\u001b[22m\u001b[39m ± \u001b[32mσ\u001b[39m\u001b[90m):   \u001b[39m\u001b[32m\u001b[1m5.632 ms\u001b[22m\u001b[39m ± \u001b[32m123.288 μs\u001b[39m  \u001b[90m┊\u001b[39m GC \u001b[90m(\u001b[39mmean ± σ\u001b[90m):  \u001b[39m0.00% ± 0.00%\n",
       "\n",
       "  \u001b[39m \u001b[39m \u001b[39m \u001b[39m \u001b[39m \u001b[39m▅\u001b[39m▆\u001b[39m▇\u001b[39m▇\u001b[34m█\u001b[39m\u001b[39m▄\u001b[32m▃\u001b[39m\u001b[39m▁\u001b[39m \u001b[39m \u001b[39m \u001b[39m \u001b[39m \u001b[39m \u001b[39m \u001b[39m \u001b[39m \u001b[39m \u001b[39m \u001b[39m \u001b[39m \u001b[39m \u001b[39m \u001b[39m \u001b[39m \u001b[39m \u001b[39m \u001b[39m \u001b[39m \u001b[39m \u001b[39m \u001b[39m \u001b[39m \u001b[39m \u001b[39m \u001b[39m \u001b[39m \u001b[39m \u001b[39m \u001b[39m \u001b[39m \u001b[39m \u001b[39m \u001b[39m \u001b[39m \u001b[39m \u001b[39m \u001b[39m \u001b[39m \u001b[39m \u001b[39m \u001b[39m \u001b[39m \u001b[39m \u001b[39m \u001b[39m \n",
       "  \u001b[39m▂\u001b[39m▃\u001b[39m▅\u001b[39m▇\u001b[39m█\u001b[39m█\u001b[39m█\u001b[39m█\u001b[39m█\u001b[34m█\u001b[39m\u001b[39m█\u001b[32m█\u001b[39m\u001b[39m█\u001b[39m▇\u001b[39m▆\u001b[39m▄\u001b[39m▄\u001b[39m▃\u001b[39m▃\u001b[39m▃\u001b[39m▂\u001b[39m▃\u001b[39m▂\u001b[39m▂\u001b[39m▂\u001b[39m▂\u001b[39m▁\u001b[39m▁\u001b[39m▁\u001b[39m▂\u001b[39m▁\u001b[39m▁\u001b[39m▂\u001b[39m▂\u001b[39m▁\u001b[39m▁\u001b[39m▁\u001b[39m▁\u001b[39m▂\u001b[39m▂\u001b[39m▂\u001b[39m▁\u001b[39m▂\u001b[39m▂\u001b[39m▁\u001b[39m▂\u001b[39m▁\u001b[39m▁\u001b[39m▁\u001b[39m▁\u001b[39m▂\u001b[39m▁\u001b[39m▂\u001b[39m▁\u001b[39m▁\u001b[39m▂\u001b[39m▁\u001b[39m▁\u001b[39m▂\u001b[39m \u001b[39m▃\n",
       "  5.51 ms\u001b[90m         Histogram: frequency by time\u001b[39m        6.17 ms \u001b[0m\u001b[1m<\u001b[22m\n",
       "\n",
       " Memory estimate\u001b[90m: \u001b[39m\u001b[33m32 bytes\u001b[39m, allocs estimate\u001b[90m: \u001b[39m\u001b[33m1\u001b[39m."
      ]
     },
     "execution_count": 67,
     "metadata": {},
     "output_type": "execute_result"
    }
   ],
   "source": [
    "@benchmark canonicalize!(_s) setup=(_s=copy(s)) evals=1"
   ]
  },
  {
   "cell_type": "code",
   "execution_count": 68,
   "metadata": {},
   "outputs": [
    {
     "data": {
      "text/plain": [
       "BenchmarkTools.Trial: 786 samples with 1 evaluation per sample.\n",
       " Range \u001b[90m(\u001b[39m\u001b[36m\u001b[1mmin\u001b[22m\u001b[39m … \u001b[35mmax\u001b[39m\u001b[90m):  \u001b[39m\u001b[36m\u001b[1m6.178 ms\u001b[22m\u001b[39m … \u001b[35m  9.982 ms\u001b[39m  \u001b[90m┊\u001b[39m GC \u001b[90m(\u001b[39mmin … max\u001b[90m): \u001b[39m0.00% … 0.00%\n",
       " Time  \u001b[90m(\u001b[39m\u001b[34m\u001b[1mmedian\u001b[22m\u001b[39m\u001b[90m):     \u001b[39m\u001b[34m\u001b[1m6.317 ms               \u001b[22m\u001b[39m\u001b[90m┊\u001b[39m GC \u001b[90m(\u001b[39mmedian\u001b[90m):    \u001b[39m0.00%\n",
       " Time  \u001b[90m(\u001b[39m\u001b[32m\u001b[1mmean\u001b[22m\u001b[39m ± \u001b[32mσ\u001b[39m\u001b[90m):   \u001b[39m\u001b[32m\u001b[1m6.346 ms\u001b[22m\u001b[39m ± \u001b[32m171.323 μs\u001b[39m  \u001b[90m┊\u001b[39m GC \u001b[90m(\u001b[39mmean ± σ\u001b[90m):  \u001b[39m0.00% ± 0.00%\n",
       "\n",
       "  \u001b[39m \u001b[39m \u001b[39m \u001b[39m▁\u001b[39m▃\u001b[39m▅\u001b[39m▆\u001b[39m▆\u001b[39m█\u001b[39m▆\u001b[39m▇\u001b[39m▄\u001b[39m \u001b[39m▂\u001b[39m▃\u001b[34m▃\u001b[39m\u001b[39m▃\u001b[39m▃\u001b[32m▃\u001b[39m\u001b[39m▃\u001b[39m▄\u001b[39m \u001b[39m \u001b[39m \u001b[39m \u001b[39m \u001b[39m \u001b[39m \u001b[39m \u001b[39m \u001b[39m \u001b[39m \u001b[39m \u001b[39m \u001b[39m \u001b[39m \u001b[39m \u001b[39m \u001b[39m \u001b[39m \u001b[39m \u001b[39m \u001b[39m \u001b[39m \u001b[39m \u001b[39m \u001b[39m \u001b[39m \u001b[39m \u001b[39m \u001b[39m \u001b[39m \u001b[39m \u001b[39m \u001b[39m \u001b[39m \u001b[39m \u001b[39m \u001b[39m \u001b[39m \u001b[39m \n",
       "  \u001b[39m▃\u001b[39m▄\u001b[39m▅\u001b[39m█\u001b[39m█\u001b[39m█\u001b[39m█\u001b[39m█\u001b[39m█\u001b[39m█\u001b[39m█\u001b[39m█\u001b[39m█\u001b[39m█\u001b[39m█\u001b[34m█\u001b[39m\u001b[39m█\u001b[39m█\u001b[32m█\u001b[39m\u001b[39m█\u001b[39m█\u001b[39m▆\u001b[39m█\u001b[39m▆\u001b[39m█\u001b[39m▅\u001b[39m▅\u001b[39m▆\u001b[39m▆\u001b[39m▆\u001b[39m▇\u001b[39m▅\u001b[39m▄\u001b[39m▆\u001b[39m▃\u001b[39m▅\u001b[39m▃\u001b[39m▄\u001b[39m▃\u001b[39m▄\u001b[39m▄\u001b[39m▅\u001b[39m▃\u001b[39m▄\u001b[39m▃\u001b[39m▂\u001b[39m▁\u001b[39m▃\u001b[39m▃\u001b[39m▁\u001b[39m▃\u001b[39m▂\u001b[39m▂\u001b[39m▃\u001b[39m▁\u001b[39m▁\u001b[39m▁\u001b[39m▁\u001b[39m▂\u001b[39m \u001b[39m▄\n",
       "  6.18 ms\u001b[90m         Histogram: frequency by time\u001b[39m        6.72 ms \u001b[0m\u001b[1m<\u001b[22m\n",
       "\n",
       " Memory estimate\u001b[90m: \u001b[39m\u001b[33m32 bytes\u001b[39m, allocs estimate\u001b[90m: \u001b[39m\u001b[33m1\u001b[39m."
      ]
     },
     "execution_count": 68,
     "metadata": {},
     "output_type": "execute_result"
    }
   ],
   "source": [
    "@benchmark canonicalize!(_s) setup=(_s=fastcolumn(copy(s))) evals=1"
   ]
  },
  {
   "cell_type": "code",
   "execution_count": 69,
   "metadata": {},
   "outputs": [
    {
     "data": {
      "text/plain": [
       "BenchmarkTools.Trial: 10000 samples with 1 evaluation per sample.\n",
       " Range \u001b[90m(\u001b[39m\u001b[36m\u001b[1mmin\u001b[22m\u001b[39m … \u001b[35mmax\u001b[39m\u001b[90m):  \u001b[39m\u001b[36m\u001b[1m3.397 μs\u001b[22m\u001b[39m … \u001b[35m 35.057 μs\u001b[39m  \u001b[90m┊\u001b[39m GC \u001b[90m(\u001b[39mmin … max\u001b[90m): \u001b[39m0.00% … 0.00%\n",
       " Time  \u001b[90m(\u001b[39m\u001b[34m\u001b[1mmedian\u001b[22m\u001b[39m\u001b[90m):     \u001b[39m\u001b[34m\u001b[1m3.526 μs               \u001b[22m\u001b[39m\u001b[90m┊\u001b[39m GC \u001b[90m(\u001b[39mmedian\u001b[90m):    \u001b[39m0.00%\n",
       " Time  \u001b[90m(\u001b[39m\u001b[32m\u001b[1mmean\u001b[22m\u001b[39m ± \u001b[32mσ\u001b[39m\u001b[90m):   \u001b[39m\u001b[32m\u001b[1m3.606 μs\u001b[22m\u001b[39m ± \u001b[32m555.754 ns\u001b[39m  \u001b[90m┊\u001b[39m GC \u001b[90m(\u001b[39mmean ± σ\u001b[90m):  \u001b[39m0.00% ± 0.00%\n",
       "\n",
       "  \u001b[39m▄\u001b[39m▄\u001b[39m█\u001b[34m▆\u001b[39m\u001b[39m▃\u001b[32m▁\u001b[39m\u001b[39m \u001b[39m \u001b[39m \u001b[39m \u001b[39m \u001b[39m \u001b[39m \u001b[39m \u001b[39m \u001b[39m \u001b[39m \u001b[39m \u001b[39m \u001b[39m \u001b[39m \u001b[39m \u001b[39m \u001b[39m \u001b[39m \u001b[39m \u001b[39m \u001b[39m \u001b[39m \u001b[39m \u001b[39m \u001b[39m \u001b[39m \u001b[39m \u001b[39m \u001b[39m \u001b[39m \u001b[39m \u001b[39m \u001b[39m \u001b[39m \u001b[39m \u001b[39m \u001b[39m \u001b[39m \u001b[39m \u001b[39m \u001b[39m \u001b[39m \u001b[39m \u001b[39m \u001b[39m \u001b[39m \u001b[39m \u001b[39m \u001b[39m \u001b[39m \u001b[39m \u001b[39m \u001b[39m \u001b[39m▁\n",
       "  \u001b[39m█\u001b[39m█\u001b[39m█\u001b[34m█\u001b[39m\u001b[39m█\u001b[32m█\u001b[39m\u001b[39m█\u001b[39m█\u001b[39m█\u001b[39m█\u001b[39m█\u001b[39m█\u001b[39m█\u001b[39m▇\u001b[39m▇\u001b[39m█\u001b[39m▇\u001b[39m▇\u001b[39m█\u001b[39m▇\u001b[39m▇\u001b[39m▆\u001b[39m▆\u001b[39m▆\u001b[39m▆\u001b[39m▆\u001b[39m▅\u001b[39m▆\u001b[39m▆\u001b[39m▅\u001b[39m▆\u001b[39m▄\u001b[39m▅\u001b[39m▄\u001b[39m▅\u001b[39m▅\u001b[39m▅\u001b[39m▅\u001b[39m▄\u001b[39m▅\u001b[39m▅\u001b[39m▄\u001b[39m▅\u001b[39m▃\u001b[39m▄\u001b[39m▄\u001b[39m▁\u001b[39m▃\u001b[39m▁\u001b[39m▄\u001b[39m▃\u001b[39m▄\u001b[39m▁\u001b[39m▁\u001b[39m▃\u001b[39m▁\u001b[39m▄\u001b[39m▁\u001b[39m▅\u001b[39m \u001b[39m█\n",
       "  3.4 μs\u001b[90m       \u001b[39m\u001b[90mHistogram: \u001b[39m\u001b[90m\u001b[1mlog(\u001b[22m\u001b[39m\u001b[90mfrequency\u001b[39m\u001b[90m\u001b[1m)\u001b[22m\u001b[39m\u001b[90m by time\u001b[39m      6.13 μs \u001b[0m\u001b[1m<\u001b[22m\n",
       "\n",
       " Memory estimate\u001b[90m: \u001b[39m\u001b[33m32 bytes\u001b[39m, allocs estimate\u001b[90m: \u001b[39m\u001b[33m1\u001b[39m."
      ]
     },
     "execution_count": 69,
     "metadata": {},
     "output_type": "execute_result"
    }
   ],
   "source": [
    "@benchmark apply!(_s, sCNOT(1,2)) setup=(_s=copy(s)) evals=1"
   ]
  },
  {
   "cell_type": "code",
   "execution_count": 70,
   "metadata": {},
   "outputs": [
    {
     "data": {
      "text/plain": [
       "BenchmarkTools.Trial: 10000 samples with 1 evaluation per sample.\n",
       " Range \u001b[90m(\u001b[39m\u001b[36m\u001b[1mmin\u001b[22m\u001b[39m … \u001b[35mmax\u001b[39m\u001b[90m):  \u001b[39m\u001b[36m\u001b[1m2.966 μs\u001b[22m\u001b[39m … \u001b[35m  8.816 μs\u001b[39m  \u001b[90m┊\u001b[39m GC \u001b[90m(\u001b[39mmin … max\u001b[90m): \u001b[39m0.00% … 0.00%\n",
       " Time  \u001b[90m(\u001b[39m\u001b[34m\u001b[1mmedian\u001b[22m\u001b[39m\u001b[90m):     \u001b[39m\u001b[34m\u001b[1m3.056 μs               \u001b[22m\u001b[39m\u001b[90m┊\u001b[39m GC \u001b[90m(\u001b[39mmedian\u001b[90m):    \u001b[39m0.00%\n",
       " Time  \u001b[90m(\u001b[39m\u001b[32m\u001b[1mmean\u001b[22m\u001b[39m ± \u001b[32mσ\u001b[39m\u001b[90m):   \u001b[39m\u001b[32m\u001b[1m3.104 μs\u001b[22m\u001b[39m ± \u001b[32m323.579 ns\u001b[39m  \u001b[90m┊\u001b[39m GC \u001b[90m(\u001b[39mmean ± σ\u001b[90m):  \u001b[39m0.00% ± 0.00%\n",
       "\n",
       "  \u001b[39m \u001b[39m▇\u001b[34m█\u001b[39m\u001b[39m▆\u001b[32m▅\u001b[39m\u001b[39m▃\u001b[39m▂\u001b[39m▁\u001b[39m \u001b[39m \u001b[39m \u001b[39m \u001b[39m \u001b[39m \u001b[39m \u001b[39m \u001b[39m \u001b[39m \u001b[39m \u001b[39m \u001b[39m \u001b[39m \u001b[39m \u001b[39m \u001b[39m \u001b[39m \u001b[39m \u001b[39m \u001b[39m \u001b[39m \u001b[39m \u001b[39m \u001b[39m \u001b[39m \u001b[39m \u001b[39m \u001b[39m \u001b[39m \u001b[39m \u001b[39m \u001b[39m \u001b[39m \u001b[39m \u001b[39m \u001b[39m \u001b[39m \u001b[39m \u001b[39m \u001b[39m \u001b[39m \u001b[39m \u001b[39m \u001b[39m \u001b[39m \u001b[39m \u001b[39m \u001b[39m \u001b[39m \u001b[39m \u001b[39m \u001b[39m▂\n",
       "  \u001b[39m█\u001b[39m█\u001b[34m█\u001b[39m\u001b[39m█\u001b[32m█\u001b[39m\u001b[39m█\u001b[39m█\u001b[39m█\u001b[39m█\u001b[39m▆\u001b[39m▅\u001b[39m▄\u001b[39m▄\u001b[39m▄\u001b[39m▅\u001b[39m▅\u001b[39m▄\u001b[39m▅\u001b[39m▄\u001b[39m▃\u001b[39m▅\u001b[39m▁\u001b[39m▄\u001b[39m▁\u001b[39m▅\u001b[39m▅\u001b[39m▅\u001b[39m▄\u001b[39m▃\u001b[39m▁\u001b[39m▃\u001b[39m▅\u001b[39m▄\u001b[39m▃\u001b[39m▁\u001b[39m▁\u001b[39m▄\u001b[39m▁\u001b[39m▁\u001b[39m▄\u001b[39m▁\u001b[39m▃\u001b[39m▁\u001b[39m▃\u001b[39m▄\u001b[39m▁\u001b[39m▃\u001b[39m▁\u001b[39m▃\u001b[39m▃\u001b[39m▄\u001b[39m▄\u001b[39m▃\u001b[39m▁\u001b[39m▅\u001b[39m▄\u001b[39m▄\u001b[39m▄\u001b[39m▄\u001b[39m \u001b[39m█\n",
       "  2.97 μs\u001b[90m      \u001b[39m\u001b[90mHistogram: \u001b[39m\u001b[90m\u001b[1mlog(\u001b[22m\u001b[39m\u001b[90mfrequency\u001b[39m\u001b[90m\u001b[1m)\u001b[22m\u001b[39m\u001b[90m by time\u001b[39m      5.11 μs \u001b[0m\u001b[1m<\u001b[22m\n",
       "\n",
       " Memory estimate\u001b[90m: \u001b[39m\u001b[33m32 bytes\u001b[39m, allocs estimate\u001b[90m: \u001b[39m\u001b[33m1\u001b[39m."
      ]
     },
     "execution_count": 70,
     "metadata": {},
     "output_type": "execute_result"
    }
   ],
   "source": [
    "@benchmark apply!(_s, sCNOT(1,2)) setup=(_s=fastcolumn(copy(s))) evals=1"
   ]
  },
  {
   "cell_type": "markdown",
   "metadata": {},
   "source": [
    "---\n",
    "\n",
    "*This notebook was generated using [Literate.jl](https://github.com/fredrikekre/Literate.jl).*"
   ]
  }
 ],
 "metadata": {
  "kernelspec": {
   "display_name": "Julia 1.11.5",
   "language": "julia",
   "name": "julia-1.11"
  },
  "language_info": {
   "file_extension": ".jl",
   "mimetype": "application/julia",
   "name": "julia",
   "version": "1.11.5"
  }
 },
 "nbformat": 4,
 "nbformat_minor": 3
}
